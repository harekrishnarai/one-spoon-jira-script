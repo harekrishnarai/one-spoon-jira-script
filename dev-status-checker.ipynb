{
 "cells": [
  {
   "cell_type": "markdown",
   "id": "b8329004",
   "metadata": {},
   "source": [
    "# Jira Development Status Checker\n",
    "\n",
    "This notebook checks whether Jira tickets have associated development activities (commits, branches, pull requests) using the Jira Development Status API.\n",
    "\n",
    "## Usage\n",
    "\n",
    "1. Update the configuration variables below\n",
    "2. Create a `jira_links.txt` file with one Jira ticket URL per line\n",
    "3. Run all cells\n",
    "4. Enter your Jira API token when prompted"
   ]
  },
  {
   "cell_type": "code",
   "execution_count": null,
   "id": "959e50df",
   "metadata": {
    "vscode": {
     "languageId": "plaintext"
    }
   },
   "outputs": [],
   "source": [
    "import requests\n",
    "import re\n",
    "import getpass\n",
    "\n",
    "# Configuration\n",
    "JIRA_DOMAIN = \"your-org.atlassian.net\"\n",
    "JIRA_EMAIL = \"email@email.com\"\n",
    "JIRA_API_TOKEN = getpass.getpass(\"Enter your Jira API Token: \").strip()"
   ]
  },
  {
   "cell_type": "code",
   "execution_count": null,
   "id": "36bd16a2",
   "metadata": {
    "vscode": {
     "languageId": "plaintext"
    }
   },
   "outputs": [],
   "source": [
    "AUTH = (JIRA_EMAIL, JIRA_API_TOKEN)\n",
    "\n",
    "HEADERS = {\n",
    "    \"Accept\": \"application/json\"\n",
    "}\n",
    "\n",
    "ISSUE_API_URL = f\"https://{JIRA_DOMAIN}/rest/api/3/issue\"\n",
    "DEV_STATUS_API = f\"https://{JIRA_DOMAIN}/rest/dev-status/1.0/issue/details\"\n",
    "\n",
    "def extract_issue_key(url):\n",
    "    \"\"\"Extract Jira issue key from URL.\"\"\"\n",
    "    match = re.search(r'/browse/([A-Z]+-\\d+)', url)\n",
    "    return match.group(1) if match else None\n",
    "\n",
    "def get_issue_id(issue_key):\n",
    "    \"\"\"Get internal issue ID for Jira issue key.\"\"\"\n",
    "    url = f\"{ISSUE_API_URL}/{issue_key}\"\n",
    "    response = requests.get(url, auth=AUTH, headers=HEADERS)\n",
    "    if response.status_code == 200:\n",
    "        return response.json().get(\"id\")\n",
    "    else:\n",
    "        print(f\"Error fetching issue ID for {issue_key}: {response.status_code}\")\n",
    "        return None\n",
    "\n",
    "def check_development_info(issue_id):\n",
    "    \"\"\"Check if development data exists for a given issue ID.\"\"\"\n",
    "    params = {\n",
    "        \"issueId\": issue_id\n",
    "    }\n",
    "    response = requests.get(DEV_STATUS_API, headers=HEADERS, auth=AUTH, params=params)\n",
    "    if response.status_code == 200:\n",
    "        details = response.json().get(\"detail\", [])\n",
    "        total = sum(len(item.get(\"repositories\", [])) for item in details)\n",
    "        return total > 0\n",
    "    else:\n",
    "        print(f\"Error fetching development info for issue ID {issue_id}: {response.status_code}\")\n",
    "        return False\n",
    "\n",
    "def main():\n",
    "    with open(\"jira_links.txt\", \"r\") as file:\n",
    "        for line in file:\n",
    "            url = line.strip()\n",
    "            issue_key = extract_issue_key(url)\n",
    "            if not issue_key:\n",
    "                print(f\"Invalid URL: {url}\")\n",
    "                continue\n",
    "\n",
    "            issue_id = get_issue_id(issue_key)\n",
    "            if issue_id:\n",
    "                has_dev = check_development_info(issue_id)\n",
    "                print(f\"{issue_key}: {'HAS development' if has_dev else 'NO development'}\")\n",
    "            else:\n",
    "                print(f\"{issue_key}: Could not fetch issue ID\")\n",
    "\n",
    "if __name__ == \"__main__\":\n",
    "    main()"
   ]
  },
  {
   "cell_type": "markdown",
   "id": "e7ed8426",
   "metadata": {},
   "source": [
    "## Example Output\n",
    "\n",
    "```\n",
    "ABC-123: HAS development\n",
    "DEF-456: NO development\n",
    "GHI-789: Could not fetch issue ID\n",
    "```\n",
    "\n",
    "## Notes\n",
    "\n",
    "- This script checks the Jira Development Status API to determine if there are any associated development activities\n",
    "- Development activities include commits, branches, and pull requests linked to the Jira ticket\n",
    "- You must have proper permissions to view development information in Jira\n",
    "- Development information is only available if Jira is integrated with a source control system like GitHub, Bitbucket, or GitLab"
   ]
  }
 ],
 "metadata": {
  "language_info": {
   "name": "python"
  }
 },
 "nbformat": 4,
 "nbformat_minor": 5
}
